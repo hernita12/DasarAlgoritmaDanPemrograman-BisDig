{
  "nbformat": 4,
  "nbformat_minor": 0,
  "metadata": {
    "colab": {
      "provenance": []
    },
    "kernelspec": {
      "name": "python3",
      "display_name": "Python 3"
    },
    "language_info": {
      "name": "python"
    }
  },
  "cells": [
    {
      "cell_type": "markdown",
      "source": [
        "MENGHITUNG TOTAL BAYAR SETELAH DISKON  JIKA SYARAT TERPENUHI"
      ],
      "metadata": {
        "id": "VOb0xdG7F5vC"
      }
    },
    {
      "cell_type": "code",
      "execution_count": 1,
      "metadata": {
        "colab": {
          "base_uri": "https://localhost:8080/"
        },
        "id": "gJ9VcwHrFyJD",
        "outputId": "b649c8e4-0065-4d9a-a079-ba2939868125"
      },
      "outputs": [
        {
          "output_type": "stream",
          "name": "stdout",
          "text": [
            "Masukkan total belanja: Rp800000\n",
            "Diskon: Rp80,000\n",
            "Total yang harus dibayar: Rp720,000\n"
          ]
        }
      ],
      "source": [
        "total_belanja = float(input(\"Masukkan total belanja: Rp\"))\n",
        "\n",
        "if total_belanja > 500000:\n",
        "    diskon = total_belanja * 0.10  # 10% diskon\n",
        "else:\n",
        "    diskon = 0\n",
        "\n",
        "total_bayar = total_belanja - diskon\n",
        "\n",
        "print(f\"Diskon: Rp{diskon:,.0f}\")\n",
        "print(f\"Total yang harus dibayar: Rp{total_bayar:,.0f}\")\n"
      ]
    }
  ]
}