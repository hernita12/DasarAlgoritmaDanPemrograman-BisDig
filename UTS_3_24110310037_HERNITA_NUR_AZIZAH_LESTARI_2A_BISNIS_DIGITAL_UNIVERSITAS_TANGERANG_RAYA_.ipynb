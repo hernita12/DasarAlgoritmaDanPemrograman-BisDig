{
  "nbformat": 4,
  "nbformat_minor": 0,
  "metadata": {
    "colab": {
      "provenance": []
    },
    "kernelspec": {
      "name": "python3",
      "display_name": "Python 3"
    },
    "language_info": {
      "name": "python"
    }
  },
  "cells": [
    {
      "cell_type": "markdown",
      "source": [
        "MENGHITUNG TOTAL PEMBELIAN"
      ],
      "metadata": {
        "id": "nnkUw9daKLKA"
      }
    },
    {
      "cell_type": "code",
      "execution_count": null,
      "metadata": {
        "colab": {
          "base_uri": "https://localhost:8080/"
        },
        "id": "GCZefmsu1bja",
        "outputId": "af5e5557-3d81-4208-bba5-29b8fe8fec58"
      },
      "outputs": [
        {
          "output_type": "stream",
          "name": "stdout",
          "text": [
            "Masukkan harga barang ke-1: 10000\n",
            "Masukkan harga barang ke-2: 20000\n",
            "Masukkan harga barang ke-3: 35000\n",
            "Total harga pembelian adalah: Rp 65000.0\n"
          ]
        }
      ],
      "source": [
        "harga_barang = []\n",
        "\n",
        "for i in range(3):\n",
        "    harga = float(input(f\"Masukkan harga barang ke-{i+1}: \"))\n",
        "    harga_barang.append(harga)\n",
        "\n",
        "total = sum(harga_barang)\n",
        "\n",
        "print(\"Total harga pembelian adalah: Rp\", total)\n"
      ]
    }
  ]
}