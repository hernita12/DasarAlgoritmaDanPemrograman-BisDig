{
  "nbformat": 4,
  "nbformat_minor": 0,
  "metadata": {
    "colab": {
      "provenance": []
    },
    "kernelspec": {
      "name": "python3",
      "display_name": "Python 3"
    },
    "language_info": {
      "name": "python"
    }
  },
  "cells": [
    {
      "cell_type": "markdown",
      "source": [
        "PENGGUNAAN LOOP DAN ARRAY"
      ],
      "metadata": {
        "id": "R__6z8wbubOi"
      }
    },
    {
      "cell_type": "code",
      "execution_count": null,
      "metadata": {
        "id": "x_fEVnNUswBa",
        "colab": {
          "base_uri": "https://localhost:8080/"
        },
        "outputId": "af47ac9b-0f43-4c40-c68e-c8e8d71059e0"
      },
      "outputs": [
        {
          "output_type": "stream",
          "name": "stdout",
          "text": [
            "Masukkan nilai siswa ke-1: 90\n",
            "Masukkan nilai siswa ke-2: 80\n",
            "Masukkan nilai siswa ke-3: 70\n",
            "Masukkan nilai siswa ke-4: 65\n",
            "Masukkan nilai siswa ke-5: 50\n",
            "\n",
            "Nilai tertinggi adalah 90, diperoleh oleh siswa ke-1.\n"
          ]
        }
      ],
      "source": [
        "nilai_siswa = []\n",
        "\n",
        "for i in range(5):\n",
        "    nilai = int(input(f\"Masukkan nilai siswa ke-{i+1}: \"))\n",
        "    nilai_siswa.append(nilai)\n",
        "\n",
        "nilai_tertinggi = max(nilai_siswa)\n",
        "indeks_tertinggi = nilai_siswa.index(nilai_tertinggi) + 1  # +1 agar urutan siswa mulai dari 1\n",
        "\n",
        "print(f\"\\nNilai tertinggi adalah {nilai_tertinggi}, diperoleh oleh siswa ke-{indeks_tertinggi}.\")\n"
      ]
    }
  ]
}