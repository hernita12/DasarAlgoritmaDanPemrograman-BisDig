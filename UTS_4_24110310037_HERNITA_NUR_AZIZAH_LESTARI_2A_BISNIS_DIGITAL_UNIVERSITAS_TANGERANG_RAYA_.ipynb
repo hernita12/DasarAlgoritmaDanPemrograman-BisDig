{
  "nbformat": 4,
  "nbformat_minor": 0,
  "metadata": {
    "colab": {
      "provenance": []
    },
    "kernelspec": {
      "name": "python3",
      "display_name": "Python 3"
    },
    "language_info": {
      "name": "python"
    }
  },
  "cells": [
    {
      "cell_type": "markdown",
      "source": [
        "MENENTUKAN RATA-RATA NILAI DAN STATUS KELULUSAN SISWA"
      ],
      "metadata": {
        "id": "zob4dG3ZBjiW"
      }
    },
    {
      "cell_type": "code",
      "execution_count": 1,
      "metadata": {
        "colab": {
          "base_uri": "https://localhost:8080/"
        },
        "id": "ON9vgj27BWSh",
        "outputId": "4540152f-4ea8-49c4-ef78-c9692b01c7c8"
      },
      "outputs": [
        {
          "output_type": "stream",
          "name": "stdout",
          "text": [
            "Masukkan nilai ujian 1: 80\n",
            "Masukkan nilai ujian 2: 50\n",
            "Masukkan nilai ujian 3: 70\n",
            "Rata-rata nilai: 66.67\n",
            "Status: TIDAK LULUS\n"
          ]
        }
      ],
      "source": [
        "nilai1 = float(input(\"Masukkan nilai ujian 1: \"))\n",
        "nilai2 = float(input(\"Masukkan nilai ujian 2: \"))\n",
        "nilai3 = float(input(\"Masukkan nilai ujian 3: \"))\n",
        "\n",
        "rata_rata = (nilai1 + nilai2 + nilai3) / 3\n",
        "\n",
        "print(\"Rata-rata nilai:\", round(rata_rata, 2))\n",
        "\n",
        "if rata_rata >= 75:\n",
        "    print(\"Status: LULUS\")\n",
        "else:\n",
        "    print(\"Status: TIDAK LULUS\")\n"
      ]
    }
  ]
}